{
 "cells": [
  {
   "cell_type": "markdown",
   "metadata": {},
   "source": [
    "<h2 align=\"center\">Summary Report for</h2>\n",
    "<h1 align=\"center\">Multi-Physics Multi-Scale Computational Modeling, LLC</h1>\n",
    "<h2 align=\"center\">Bill Spotz</h2>\n",
    "<h2 align=\"center\">Sandia National Laboratories</h2>\n",
    "<h2 align=\"center\">December 19, 2018</h2>"
   ]
  },
  {
   "cell_type": "markdown",
   "metadata": {},
   "source": [
    "**Statement of Work:**  SNL will provide, as time and budget allows, consultation developing a code that takes as input a description of a partial differential equation (e.g. in LaTeX syntax) and that generates as output a C++ class that is a viable Albany evaluator that computes the finite element residual of the provided equation. SNL will also provide consultation to demonstrate this capability to solve a simple model problem. A summary report will be written."
   ]
  },
  {
   "cell_type": "markdown",
   "metadata": {},
   "source": [
    "# Introduction"
   ]
  },
  {
   "cell_type": "markdown",
   "metadata": {},
   "source": [
    "To complete the Statement of Work (SOW), a set of tools was chosen that are appropriate to the task: The Jupyter Notebook running Python 3, using sympy:"
   ]
  },
  {
   "cell_type": "markdown",
   "metadata": {},
   "source": [
    "   *  **Jupyter Notebook** The goal is for users to start with a representation of a partial differential equation (PDE), and generate code that is a finite element representtion of that PDE.  As such, we want a tool that provides an interface to code but that also renders beautiful mathematics.  The Jupyter Notebook fills these requirements and much more.  Note that this summary report is generated using Jupyter Notebook."
   ]
  },
  {
   "cell_type": "markdown",
   "metadata": {},
   "source": [
    "   *  **Python 3** Jupyter Notebooks support many languages, but Python was the first.  Python syntax is clean and easy for users to pick up, the collection of built-in and third-party libraries is extensive, and the scientific Python community is sizeable, broad and vibrant."
   ]
  },
  {
   "cell_type": "markdown",
   "metadata": {},
   "source": [
    "   *  **SymPy** *Sym*bolic *Py*thon is a third-party symbolic manipulation module for Python that provides the capability of manipulating PDEs in the manner prescribed by the SOW.  Specifically, it supports mathematic manipulation of derivatives, integrals, summations and a host of other mathematical objects.  It can convert LaTeX representations of mathematics into its own tree-based representation of mathematical expressions and equations, and it can convert its representation of expressions into code, valid for many different programming  languages."
   ]
  },
  {
   "cell_type": "markdown",
   "metadata": {},
   "source": [
    "**A note about this Summary Report:** This report was developed within a Jupyter Notebook, which means that the code presented in the report is \"live\" when viewed using Jupyter Notebook.  Cell blocks preceeded by `In [#]: ` where `#` is a number, are actual code, and cell blocks preceeded by `Out[#]: ` are the actual output produced by the code block with the same number.  Changing the input code will change the resulting output.  For reporting purposes, this notebook will be converted to other formats -- HTML and PDF -- which will be static documents, but whose output cells will be authentic.  Using a notebook also demonstrates the professional typesetting of mathematical expressions that will be a part of the end users interface experience."
   ]
  },
  {
   "cell_type": "markdown",
   "metadata": {},
   "source": [
    "# A Note on Using LaTeX as Input"
   ]
  },
  {
   "cell_type": "markdown",
   "metadata": {},
   "source": [
    "The `sympy` module supports an incredible range of mathematical syntax, and the Python interface for constructing PDEs quickly became quite easy to use for the purposes of this project.  However, the first task in the SOW is to provide \"consultation developing a code that takes as input a description of a partial differential equation (e.g. in LaTeX syntax) ...\".  This project certainly demonstrates capabilities that \"[take] as input a description of a partial differential equation,\" but that description is `sympy` syntax, not LaTeX, as suggested in the SOW."
   ]
  },
  {
   "cell_type": "markdown",
   "metadata": {},
   "source": [
    "A converter from LaTeX to `sympy` syntax is all that is needed to remedy this situation, and indeed, such converters already exist.  For example, __[latex2sympy](https://github.com/augustt198/latex2sympy)__ is one such converter.  Unfortunately, it does not have a `conda` installer, making it less convenient than the other tools used in this project.  Also, I have not tested it extensively enough to determine whether it is completely suitable for our purposes.  Since it is open source, both adding a `conda` installer and making contributions that might address any shortcomings are within the realm of possibility."
   ]
  },
  {
   "cell_type": "markdown",
   "metadata": {},
   "source": [
    "# The `sympy` Module"
   ]
  },
  {
   "cell_type": "markdown",
   "metadata": {},
   "source": [
    "In this report, I will demonstrate how to start with the description of a PDE using `sympy` syntax, apply the various steps of approximating it using the finite element method, and ultimately use that symbolic representation of an approximation to generate code usable in an application code such as Albany.  We begin by importing functions and classes we will need from the Python module `sympy`.  Calling the `init_printing()` function will give us nicely formatted output mathematics within this notebook."
   ]
  },
  {
   "cell_type": "code",
   "execution_count": 1,
   "metadata": {},
   "outputs": [],
   "source": [
    "from sympy import init_printing, Symbol, Function, Eq, Derivative\n",
    "init_printing()"
   ]
  },
  {
   "cell_type": "markdown",
   "metadata": {},
   "source": [
    "# The `regen` Module"
   ]
  },
  {
   "cell_type": "markdown",
   "metadata": {},
   "source": [
    "The `regen` module is the Python module being developed under this project, whose goal is to start with a practical expression of a PDE (using `sympy` syntax, as we do here) and from that, perform the various steps of applying the finite element method, such as converting to the weak form, applying the Galerkin approximation, and evaluating integrals using Gaussian quadrature."
   ]
  },
  {
   "cell_type": "code",
   "execution_count": 2,
   "metadata": {},
   "outputs": [],
   "source": [
    "import regen"
   ]
  },
  {
   "cell_type": "markdown",
   "metadata": {},
   "source": [
    "# Defining a Model Problem"
   ]
  },
  {
   "cell_type": "markdown",
   "metadata": {},
   "source": [
    "The model problem we will be using for demonstration purposes comes from *Finite Elements: An Introduction, Volume I* by Eric B. Becker, Graham F. Carey, and J. Tinsley Oden.  In chapter 1 of that textbook, the authors develop a finite element method in the context of a model problem"
   ]
  },
  {
   "cell_type": "markdown",
   "metadata": {},
   "source": [
    "$$\n",
    "\\begin{array}{ccc}\n",
    "    -u'' + u = x, & 0 < x < 1 \\\\\n",
    "    u(0) = 0,     & u(1) = 0\n",
    "\\end{array}\n",
    "$$"
   ]
  },
  {
   "cell_type": "markdown",
   "metadata": {},
   "source": [
    "where $u$ is our solution variable and the prime symbol $'$ indicates differention with respect to $x$."
   ]
  },
  {
   "cell_type": "markdown",
   "metadata": {},
   "source": [
    "To define our equation using `sympy`, we need to define `x` as a `Symbol` and `u` as a `Function` of `x`, then use the `Eq` and `Derivative` classes to define the equation:"
   ]
  },
  {
   "cell_type": "code",
   "execution_count": 3,
   "metadata": {},
   "outputs": [
    {
     "data": {
      "image/png": "[encoded data removed]",
      "text/latex": [
       "$$u{\\left (x \\right )} - \\frac{d^{2}}{d x^{2}} u{\\left (x \\right )} = x$$"
      ],
      "text/plain": [
       "         2          \n",
       "        d           \n",
       "u(x) - ───(u(x)) = x\n",
       "         2          \n",
       "       dx           "
      ]
     },
     "execution_count": 3,
     "metadata": {},
     "output_type": "execute_result"
    }
   ],
   "source": [
    "x = Symbol(\"x\")\n",
    "y = Symbol(\"y\")\n",
    "u = Function(\"u\")(x)\n",
    "model_prob = Eq(-Derivative(u,x,2) + u, x)\n",
    "model_prob"
   ]
  },
  {
   "cell_type": "markdown",
   "metadata": {},
   "source": [
    "# Weak Form"
   ]
  },
  {
   "cell_type": "markdown",
   "metadata": {},
   "source": [
    "Our first goal is to obtain the weak form of our model problem.  The weak form is obtained by multiplying the PDE by a test function and integrating the result over the domain.  Typically, integration by parts is applied to reduce terms with second derivatives to first derivatives.  This reduces the smoothness requirements on both the test functions and  the basis functions that ultimately approximate the solution."
   ]
  },
  {
   "cell_type": "markdown",
   "metadata": {},
   "source": [
    "The `regen.weak_form()` function takes an `Eq` object as its first argument, the test function as its second argument (so that the user can prevent naming conflicts), and which we name `v`. Note that through inspection, the `regen.weak_form()` function detects the solution variables, in this case `(u(x),)` and the domain variable `x`."
   ]
  },
  {
   "cell_type": "code",
   "execution_count": 4,
   "metadata": {},
   "outputs": [
    {
     "data": {
      "image/png": "[encoded data removed]",
      "text/latex": [
       "$$- v{\\left (x \\right )} \\frac{d}{d x} u{\\left (x \\right )} - \\int x v{\\left (x \\right )}\\, dx + \\int u{\\left (x \\right )} v{\\left (x \\right )}\\, dx + \\int \\frac{d}{d x} u{\\left (x \\right )} \\frac{d}{d x} v{\\left (x \\right )}\\, dx$$"
      ],
      "text/plain": [
       "                                                 ⌠                     \n",
       "       d          ⌠             ⌠                ⎮ d        d          \n",
       "- v(x)⋅──(u(x)) - ⎮ x⋅v(x) dx + ⎮ u(x)⋅v(x) dx + ⎮ ──(u(x))⋅──(v(x)) dx\n",
       "       dx         ⌡             ⌡                ⎮ dx       dx         \n",
       "                                                 ⌡                     "
      ]
     },
     "execution_count": 4,
     "metadata": {},
     "output_type": "execute_result"
    }
   ],
   "source": [
    "v = Function(\"v\")(x)\n",
    "weak_form = regen.weak_form(model_prob, v)\n",
    "weak_form"
   ]
  },
  {
   "cell_type": "markdown",
   "metadata": {},
   "source": [
    "The weak form is returned in the form of a `sympy.Expr` rather than a `sympy.Eq`, with the implication that the expression sums to zero.  Notice that the term involving the second derivative of $u$ has been replaced by two terms that involve the first derivatives of $u$ and $v$."
   ]
  },
  {
   "cell_type": "markdown",
   "metadata": {},
   "source": [
    "# Galerkin Approximation"
   ]
  },
  {
   "cell_type": "markdown",
   "metadata": {},
   "source": [
    "We now want to substitute an approximation for $u$ into our model problem.  Specifically, we are going to change the model problem from solving for $u_h$ instead of $u$, where"
   ]
  },
  {
   "cell_type": "markdown",
   "metadata": {},
   "source": [
    "$$\n",
    "u_h(x) = \\sum_{i=0}^{N-1} u_i \\phi_i(x)\n",
    "$$"
   ]
  },
  {
   "cell_type": "markdown",
   "metadata": {},
   "source": [
    "and the test functions are given by\n",
    "\n",
    "$$\n",
    "v(x) \\in \\{\\phi_j(x)\\} \\, \\mbox{ for } j = 0 \\ldots N-1\n",
    "$$"
   ]
  },
  {
   "cell_type": "markdown",
   "metadata": {},
   "source": [
    "and the ${\\phi_i(x)}$ are our basis functions of dimension $N$.  Note that `sympy` supports `IndexedBase` objects and `Function` objects, but not `Function`s that are indexed (at least not that I have figured out yet).  My workaround for this is to define `phi` as a `Function`, with two arguments, `i` (or `j`) and `x`.  This results in the mathematical notation $\\phi(i,x)$ rather than the more traditional $\\phi_i(x)$."
   ]
  },
  {
   "cell_type": "markdown",
   "metadata": {},
   "source": [
    "The `regen.galerkin()` function takes as its first argument an expression or a sequence of expressions, in this case our `weak_form` expression.  For the second argument, it needs to know the test function we used to obtain the weak form, because this function does not get expanded as a series.  The third argument is the basis function for the Galerkin approximation.  It should be constructed without arguments, neither index nor domain variable, because the `regen.galerkin()` function will add these."
   ]
  },
  {
   "cell_type": "code",
   "execution_count": 5,
   "metadata": {},
   "outputs": [
    {
     "data": {
      "image/png": "[encoded data removed]",
      "text/latex": [
       "$$- \\phi{\\left (j,x \\right )} \\sum_{i=0}^{N - 1} \\frac{d}{d x} \\phi{\\left (i,x \\right )} {u}_{i} - \\int x \\phi{\\left (j,x \\right )}\\, dx + \\int \\phi{\\left (j,x \\right )} \\sum_{i=0}^{N - 1} \\phi{\\left (i,x \\right )} {u}_{i}\\, dx + \\int \\frac{d}{d x} \\phi{\\left (j,x \\right )} \\sum_{i=0}^{N - 1} \\frac{d}{d x} \\phi{\\left (i,x \\right )} {u}_{i}\\, dx$$"
      ],
      "text/plain": [
       "                                                                              \n",
       "          N - 1                                     ⌠                         \n",
       "           ____                                     ⎮         N - 1           \n",
       "           ╲                                        ⎮          ___            \n",
       "            ╲   d                                   ⎮          ╲              \n",
       "             ╲  ──(φ(i, x))⋅u[i]   ⌠                ⎮           ╲   φ(i, x)⋅u[\n",
       "- φ(j, x)⋅   ╱  dx               - ⎮ x⋅φ(j, x) dx + ⎮ φ(j, x)⋅  ╱             \n",
       "            ╱                      ⌡                ⎮          ╱              \n",
       "           ╱                                        ⎮          ‾‾‾            \n",
       "           ‾‾‾‾                                     ⎮         i = 0           \n",
       "          i = 0                                     ⌡                         \n",
       "                                                                              \n",
       "\n",
       "        ⌠                                      \n",
       "        ⎮             N - 1                    \n",
       "        ⎮              ____                    \n",
       "        ⎮              ╲                       \n",
       "        ⎮               ╲   d                  \n",
       "i]      ⎮ d              ╲  ──(φ(i, x))⋅u[i]   \n",
       "   dx + ⎮ ──(φ(j, x))⋅   ╱  dx               dx\n",
       "        ⎮ dx            ╱                      \n",
       "        ⎮              ╱                       \n",
       "        ⎮              ‾‾‾‾                    \n",
       "        ⎮             i = 0                    \n",
       "        ⌡                                      "
      ]
     },
     "execution_count": 5,
     "metadata": {},
     "output_type": "execute_result"
    }
   ],
   "source": [
    "phi = Function('phi')\n",
    "galerkin = regen.galerkin(weak_form, v, phi)\n",
    "galerkin"
   ]
  },
  {
   "cell_type": "markdown",
   "metadata": {},
   "source": [
    "# Quadrature"
   ]
  },
  {
   "cell_type": "markdown",
   "metadata": {},
   "source": [
    "The $\\phi(i,x)$ in the expression above are basis functions that can, in theory, take any form we wish.  In practice, we typically define piecewise polynomial basis functions, which means that the expression above has an analytic solution.  However, it is typically more efficient to \"approximate\" the above integrals using Gaussian quadrature, followed by choosing the number of quadrature points to represent the integral exactly.\n",
    "\n",
    "As such, we now wish to convert the integrals to summations by applying Gaussian quadrature, which can be done by the `regen.quadrature()` function:"
   ]
  },
  {
   "cell_type": "code",
   "execution_count": 6,
   "metadata": {},
   "outputs": [
    {
     "data": {
      "image/png": "[encoded data removed]",
      "text/latex": [
       "$$- \\phi{\\left (j,{x}_{k} \\right )} \\sum_{i=0}^{N - 1} \\frac{\\partial}{\\partial x} \\phi{\\left (i,{x}_{k} \\right )} {u}_{i} - \\sum_{k=0}^{N_{k} - 1} x \\phi{\\left (j,{x}_{k} \\right )} {w}_{k} + \\sum_{k=0}^{N_{k} - 1} \\phi{\\left (j,{x}_{k} \\right )} {w}_{k} \\sum_{i=0}^{N - 1} \\phi{\\left (i,{x}_{k} \\right )} {u}_{i} + \\sum_{k=0}^{N_{k} - 1} \\frac{\\partial}{\\partial x} \\phi{\\left (j,{x}_{k} \\right )} {w}_{k} \\sum_{i=0}^{N - 1} \\frac{\\partial}{\\partial x} \\phi{\\left (i,{x}_{k} \\right )} {u}_{i}$$"
      ],
      "text/plain": [
       "                                                                              \n",
       "                                                                    Nₖ - 1    \n",
       "                                                                    ______    \n",
       "             N - 1                                                  ╲         \n",
       "              ____                       Nₖ - 1                      ╲        \n",
       "              ╲                           ___                         ╲       \n",
       "               ╲   ∂                      ╲                            ╲      \n",
       "                ╲  ──(φ(i, x[k]))⋅u[i]     ╲    x⋅φ(j, x[k])⋅w[k]       ╲     \n",
       "- φ(j, x[k])⋅   ╱  ∂x                  -   ╱                      +     ╱  φ(j\n",
       "               ╱                          ╱                            ╱      \n",
       "              ╱                           ‾‾‾                         ╱       \n",
       "              ‾‾‾‾                       k = 0                       ╱        \n",
       "             i = 0                                                  ╱         \n",
       "                                                                    ‾‾‾‾‾‾    \n",
       "                                                                    k = 0     \n",
       "                                                                              \n",
       "\n",
       "                                      Nₖ - 1                                  \n",
       "                                     _______                                  \n",
       "                                     ╲                                        \n",
       "                                      ╲                          N - 1        \n",
       "             N - 1                     ╲                          ____        \n",
       "              ___                       ╲                         ╲           \n",
       "              ╲                          ╲                         ╲   ∂      \n",
       "               ╲   φ(i, x[k])⋅u[i]        ╲  ∂                      ╲  ──(φ(i,\n",
       ", x[k])⋅w[k]⋅  ╱                   +      ╱  ──(φ(j, x[k]))⋅w[k]⋅   ╱  ∂x     \n",
       "              ╱                          ╱   ∂x                    ╱          \n",
       "              ‾‾‾                       ╱                         ╱           \n",
       "             i = 0                     ╱                          ‾‾‾‾        \n",
       "                                      ╱                          i = 0        \n",
       "                                     ╱                                        \n",
       "                                     ‾‾‾‾‾‾‾                                  \n",
       "                                      k = 0                                   \n",
       "\n",
       "            \n",
       "            \n",
       "            \n",
       "            \n",
       "            \n",
       "            \n",
       "            \n",
       " x[k]))⋅u[i]\n",
       "            \n",
       "            \n",
       "            \n",
       "            \n",
       "            \n",
       "            \n",
       "            \n",
       "            "
      ]
     },
     "execution_count": 6,
     "metadata": {},
     "output_type": "execute_result"
    }
   ],
   "source": [
    "quadrature = regen.quadrature(galerkin)\n",
    "quadrature"
   ]
  },
  {
   "cell_type": "markdown",
   "metadata": {},
   "source": [
    "At a glance, you can see that this expression contains summations, but no integrals, unlike the previous expression, which contained both."
   ]
  },
  {
   "cell_type": "markdown",
   "metadata": {},
   "source": [
    "# The Substitution Bug"
   ]
  },
  {
   "cell_type": "markdown",
   "metadata": {},
   "source": [
    "At this point in the process, I discovered what I believe is a bug in `sympy`.  The goal at this point is to massage the above expression into one that is more conducive to code generation.  The problem is the derivatives of the basis functions, e.g.\n",
    "\n",
    "$$\n",
    "\\frac{\\partial}{\\partial x} \\phi(i,x)\n",
    "$$\n",
    "\n",
    "evaluated at discrete points $x = x_k$.  Our code will simply store an array with these values, so we want to replace these derivatives with a simple function that represents these derivatives, say\n",
    "\n",
    "$$\n",
    "\\phi_x(i, x_k)\n",
    "$$\n",
    "\n",
    "This is the purpose of the `regen.substitute_derivatives()` function, but it does not work as expected:"
   ]
  },
  {
   "cell_type": "code",
   "execution_count": 7,
   "metadata": {},
   "outputs": [
    {
     "data": {
      "image/png": "[encoded data removed]",
      "text/latex": [
       "$$- \\phi{\\left (j,{x}_{k} \\right )} \\sum_{i=0}^{N - 1} \\frac{\\partial}{\\partial x} \\phi{\\left (i,{x}_{k} \\right )} {u}_{i} - \\sum_{k=0}^{N_{k} - 1} x \\phi{\\left (j,{x}_{k} \\right )} {w}_{k} + \\sum_{k=0}^{N_{k} - 1} \\phi{\\left (j,{x}_{k} \\right )} {w}_{k} \\sum_{i=0}^{N - 1} \\phi{\\left (i,{x}_{k} \\right )} {u}_{i} + \\sum_{k=0}^{N_{k} - 1} \\frac{\\partial}{\\partial x} \\phi{\\left (j,{x}_{k} \\right )} {w}_{k} \\sum_{i=0}^{N - 1} \\frac{\\partial}{\\partial x} \\phi{\\left (i,{x}_{k} \\right )} {u}_{i}$$"
      ],
      "text/plain": [
       "                                                                              \n",
       "                                                                    Nₖ - 1    \n",
       "                                                                    ______    \n",
       "             N - 1                                                  ╲         \n",
       "              ____                       Nₖ - 1                      ╲        \n",
       "              ╲                           ___                         ╲       \n",
       "               ╲   ∂                      ╲                            ╲      \n",
       "                ╲  ──(φ(i, x[k]))⋅u[i]     ╲    x⋅φ(j, x[k])⋅w[k]       ╲     \n",
       "- φ(j, x[k])⋅   ╱  ∂x                  -   ╱                      +     ╱  φ(j\n",
       "               ╱                          ╱                            ╱      \n",
       "              ╱                           ‾‾‾                         ╱       \n",
       "              ‾‾‾‾                       k = 0                       ╱        \n",
       "             i = 0                                                  ╱         \n",
       "                                                                    ‾‾‾‾‾‾    \n",
       "                                                                    k = 0     \n",
       "                                                                              \n",
       "\n",
       "                                      Nₖ - 1                                  \n",
       "                                     _______                                  \n",
       "                                     ╲                                        \n",
       "                                      ╲                          N - 1        \n",
       "             N - 1                     ╲                          ____        \n",
       "              ___                       ╲                         ╲           \n",
       "              ╲                          ╲                         ╲   ∂      \n",
       "               ╲   φ(i, x[k])⋅u[i]        ╲  ∂                      ╲  ──(φ(i,\n",
       ", x[k])⋅w[k]⋅  ╱                   +      ╱  ──(φ(j, x[k]))⋅w[k]⋅   ╱  ∂x     \n",
       "              ╱                          ╱   ∂x                    ╱          \n",
       "              ‾‾‾                       ╱                         ╱           \n",
       "             i = 0                     ╱                          ‾‾‾‾        \n",
       "                                      ╱                          i = 0        \n",
       "                                     ╱                                        \n",
       "                                     ‾‾‾‾‾‾‾                                  \n",
       "                                      k = 0                                   \n",
       "\n",
       "            \n",
       "            \n",
       "            \n",
       "            \n",
       "            \n",
       "            \n",
       "            \n",
       " x[k]))⋅u[i]\n",
       "            \n",
       "            \n",
       "            \n",
       "            \n",
       "            \n",
       "            \n",
       "            \n",
       "            "
      ]
     },
     "execution_count": 7,
     "metadata": {},
     "output_type": "execute_result"
    }
   ],
   "source": [
    "regen.substitute_derivatives(quadrature)"
   ]
  },
  {
   "cell_type": "markdown",
   "metadata": {},
   "source": [
    "The above expression should have regular functions substituted for the derivatives, but does not.  I demonstrate this bug, in a simpler context, in __[this notebook](http://localhost:8888/notebooks/Substitution%20Bug.ipynb)__, noting that the desired substitution works in a simpler context, but not within a summation.  I have submitted this bug as a question to Stack Overflow, and barring a response with a reasonable workaround, I will submit it as a bug to the SymPy developers."
   ]
  },
  {
   "cell_type": "markdown",
   "metadata": {},
   "source": [
    "Given the extremely short duration of this project, I accepted this bug as an issue that would not be fixed by the project end date, and pushed ahead to further assess the project's goals.  As a temporary workaround for this problem, I will `print(quadrature)`, cut-and-paste, and then modify the expression to be what we need it to be."
   ]
  },
  {
   "cell_type": "code",
   "execution_count": 8,
   "metadata": {},
   "outputs": [
    {
     "name": "stdout",
     "output_type": "stream",
     "text": [
      "-phi(j, x[k])*Sum(Derivative(phi(i, x[k]), x)*u[i], (i, 0, N - 1)) - Sum(x*phi(j, x[k])*w[k], (k, 0, N_k - 1)) + Sum(phi(j, x[k])*w[k]*Sum(phi(i, x[k])*u[i], (i, 0, N - 1)), (k, 0, N_k - 1)) + Sum(Derivative(phi(j, x[k]), x)*w[k]*Sum(Derivative(phi(i, x[k]), x)*u[i], (i, 0, N - 1)), (k, 0, N_k - 1))\n"
     ]
    }
   ],
   "source": [
    "print(quadrature)"
   ]
  },
  {
   "cell_type": "code",
   "execution_count": 9,
   "metadata": {},
   "outputs": [],
   "source": [
    "from sympy import Idx, IndexedBase, Sum, Symbol, Integral\n",
    "N     = Symbol('N', integer=True)\n",
    "N_k   = Symbol('N_k', integer=True)\n",
    "i     = Idx('i', (0,N-1))\n",
    "j     = Idx('j', (0,N-1))\n",
    "k     = Idx('k', (0,N_k-1))\n",
    "ui    = IndexedBase('u')\n",
    "xk    = IndexedBase('x')\n",
    "w     = IndexedBase('w')\n",
    "phi_x = Function('phi_x')"
   ]
  },
  {
   "cell_type": "code",
   "execution_count": 10,
   "metadata": {},
   "outputs": [
    {
     "data": {
      "image/png": "[encoded data removed]",
      "text/latex": [
       "$$- \\phi{\\left (j,{x}_{k} \\right )} \\sum_{i=0}^{N - 1} \\phi_{x}{\\left (i,{x}_{k} \\right )} {u}_{i} - \\sum_{k=0}^{N_{k} - 1} x \\phi{\\left (j,{x}_{k} \\right )} {w}_{k} + \\sum_{k=0}^{N_{k} - 1} \\phi{\\left (j,{x}_{k} \\right )} {w}_{k} \\sum_{i=0}^{N - 1} \\phi{\\left (i,{x}_{k} \\right )} {u}_{i} + \\sum_{k=0}^{N_{k} - 1} \\phi_{x}{\\left (j,{x}_{k} \\right )} {w}_{k} \\sum_{i=0}^{N - 1} \\phi{\\left (i,{x}_{k} \\right )} {u}_{i}$$"
      ],
      "text/plain": [
       "                                                                 Nₖ - 1       \n",
       "                                                                 ______       \n",
       "                                                                 ╲            \n",
       "             N - 1                    Nₖ - 1                      ╲           \n",
       "              ___                      ___                         ╲          \n",
       "              ╲                        ╲                            ╲         \n",
       "               ╲   φₓ(i, x[k])⋅u[i]     ╲    x⋅φ(j, x[k])⋅w[k]       ╲        \n",
       "- φ(j, x[k])⋅  ╱                    -   ╱                      +     ╱  φ(j, x\n",
       "              ╱                        ╱                            ╱         \n",
       "              ‾‾‾                      ‾‾‾                         ╱          \n",
       "             i = 0                    k = 0                       ╱           \n",
       "                                                                 ╱            \n",
       "                                                                 ‾‾‾‾‾‾       \n",
       "                                                                 k = 0        \n",
       "\n",
       "                                  Nₖ - 1                                      \n",
       "                                  ______                                      \n",
       "                                  ╲                                           \n",
       "          N - 1                    ╲                      N - 1               \n",
       "           ___                      ╲                      ___                \n",
       "           ╲                         ╲                     ╲                  \n",
       "            ╲   φ(i, x[k])⋅u[i]       ╲                     ╲   φ(i, x[k])⋅u[i\n",
       "[k])⋅w[k]⋅  ╱                   +     ╱  φₓ(j, x[k])⋅w[k]⋅  ╱                 \n",
       "           ╱                         ╱                     ╱                  \n",
       "           ‾‾‾                      ╱                      ‾‾‾                \n",
       "          i = 0                    ╱                      i = 0               \n",
       "                                  ╱                                           \n",
       "                                  ‾‾‾‾‾‾                                      \n",
       "                                  k = 0                                       \n",
       "\n",
       " \n",
       " \n",
       " \n",
       " \n",
       " \n",
       " \n",
       "]\n",
       " \n",
       " \n",
       " \n",
       " \n",
       " \n",
       " \n",
       " "
      ]
     },
     "execution_count": 10,
     "metadata": {},
     "output_type": "execute_result"
    }
   ],
   "source": [
    "discrete = -phi(j, xk[k])*Sum(phi_x(i, xk[k])*ui[i], (i, 0, N - 1)) - \\\n",
    "Sum(x*phi(j, xk[k])*w[k], (k, 0, N_k - 1)) + \\\n",
    "Sum(phi(j, xk[k])*w[k]*Sum(phi(i, xk[k])*ui[i], (i, 0, N - 1)), (k, 0, N_k - 1)) + \\\n",
    "Sum(phi_x(j, xk[k])*w[k]*Sum(phi(i, xk[k])*ui[i], (i, 0, N - 1)), (k, 0, N_k - 1))\n",
    "discrete"
   ]
  },
  {
   "cell_type": "markdown",
   "metadata": {},
   "source": [
    "# Code Generation"
   ]
  },
  {
   "cell_type": "markdown",
   "metadata": {},
   "source": [
    "To be added."
   ]
  },
  {
   "cell_type": "markdown",
   "metadata": {},
   "source": [
    "# Conclusions"
   ]
  },
  {
   "cell_type": "markdown",
   "metadata": {},
   "source": [
    "Based on the experience obtained under this NMSBA project, I can draw the following conclusions:\n",
    "\n",
    "* The Jupyter Notebook should provide an extremely useful interface for users who would want to use the tools ultimately developed in the aftermath of this project to generate Albany `ModelEvaluators`.  It will allow these users to express their PDEs of interest, check them visually with professionally-rendered mathematics, and submit them to the series of manipulations supported by the `regen` module to ultimately generate code for use in Albany."
   ]
  },
  {
   "cell_type": "markdown",
   "metadata": {},
   "source": [
    "* The `sympy` module provides the tools to successfully formulate the weak form of the PDE, apply a Galerkin approximation, and utilize Gaussian quadrature to generate an expression that is nearly ready to be used as input to the `sympy` code generation algorithms.  There is one barrier, though: the __[substitution bug](http://localhost:8888/notebooks/Substitution%20Bug.ipynb)__.  This bug must be fixed before a fully automated system to achieve the project's goals can be achieved."
   ]
  },
  {
   "cell_type": "markdown",
   "metadata": {},
   "source": [
    "* The model problem employed here is 1D, but most problems of interest will have two, three or four dimensions -- $(x,y,z,t)$ for example.  The `sympy` module certainly supports multivariate vector PDEs, via the `CoordSys3D` sub-module:"
   ]
  },
  {
   "cell_type": "code",
   "execution_count": 11,
   "metadata": {},
   "outputs": [
    {
     "data": {
      "image/png": "[encoded data removed]",
      "text/latex": [
       "$$(\\mathbf{{y}_{R}} \\mathbf{{z}_{R}})\\mathbf{\\hat{i}_{R}} + (\\mathbf{{x}_{R}} \\mathbf{{z}_{R}})\\mathbf{\\hat{j}_{R}} + (\\mathbf{{x}_{R}} \\mathbf{{y}_{R}})\\mathbf{\\hat{k}_{R}}$$"
      ],
      "text/plain": [
       "R.y*R.z*R.i + R.x*R.z*R.j + R.x*R.y*R.k"
      ]
     },
     "execution_count": 11,
     "metadata": {},
     "output_type": "execute_result"
    }
   ],
   "source": [
    "from sympy.vector import CoordSys3D, Del\n",
    "R = CoordSys3D(\"R\")\n",
    "delop = Del()\n",
    "gradient_field = delop(R.x*R.y*R.z)\n",
    "gradient_field.doit()"
   ]
  },
  {
   "cell_type": "markdown",
   "metadata": {},
   "source": [
    "*  This means that the type of problems of interest from science and engineering can be represented.  The functions in the `regen` module that would need modification to support higher dimensions include:\n",
    "\n",
    "    - `weak_form(eqs, test_func)` would need to be updated to work for higher dimensions.  It currently assumes 1D integrals\n",
    "\n",
    "    -  `integrate_by_parts(u,v,x)` currently assumes 1D, as implied by the `x` integration argument, meaning the argument list would also change\n",
    "    \n",
    "    - `galerkin(expr, test_func, basis)` currently assumes 1D basis functions, which should be expanded to multidimensional tensor-product basis functions\n",
    "\n",
    "    - `quadrature(expr)` assumes 1D integrals\n",
    "    \n",
    "    - `substitute_derivatives(expr)` assumes 1D derivatives"
   ]
  },
  {
   "cell_type": "markdown",
   "metadata": {},
   "source": [
    "*  I did not consider boundary conditions (BCs) here, but of course BCs are extremely important for any type of solution (analytic or approximate) for PDEs.  On the other hand, Albany already supports certain types of BCs, and the idea would be to leverage those within the developed application code whenever available.  The `sympy` module supports both definite and indefinite integrals (BCs are expressed through the bounds of definite integrals), so representation is not an issue.  Ultimately I felt that the most efficient use of limited time was to focus on the governing equations."
   ]
  },
  {
   "cell_type": "markdown",
   "metadata": {},
   "source": [
    "*  The demonstration here was for a single PDE, but sets of PDEs are supported as well.  Typically, the first argument to functions in the `regen` module is a `sympy.Eq` or `sympy.Expr` object or a sequence of these objects.  These functions typically return a single `sympy.Expr` object or a tuple of them, depending on the input.  Internally, the `regen` module inspects these expressions to obtain sets of objects for the expression(s) such as differentiated functions, differentiating variables, and domain variables.  These inspections can obviously differ for a single PDE versus a set of PDEs, and processing sets of PDEs was taken as a requirement."
   ]
  },
  {
   "cell_type": "markdown",
   "metadata": {},
   "source": [
    "*  An object-oriented interface would be warranted and easy to implement.  Specifically, `regen` could contain a class definition named, say, `PDE`, whose constructor would take a single PDE or a set of PDEs.  It could possibly perform conversion from LaTeX to `sympy` if needed.  It could have optional arguments providing the test functions and basis functions.  During the construction phase, the class could obtain the weak form, the Galerkin approximation, and the discrete representation.  These expressions could be stored as attributes of the object, as could the results of the inspection of the (set of) PDE(s).  The class could also provide a method or methods for code generation, which would allow for supporting multiple output languages."
   ]
  }
 ],
 "metadata": {
  "kernelspec": {
   "display_name": "Python 3",
   "language": "python",
   "name": "python3"
  },
  "language_info": {
   "codemirror_mode": {
    "name": "ipython",
    "version": 3
   },
   "file_extension": ".py",
   "mimetype": "text/x-python",
   "name": "python",
   "nbconvert_exporter": "python",
   "pygments_lexer": "ipython3",
   "version": "3.6.7"
  },
  "latex_envs": {
   "LaTeX_envs_menu_present": true,
   "autoclose": false,
   "autocomplete": true,
   "bibliofile": "biblio.bib",
   "cite_by": "apalike",
   "current_citInitial": 1,
   "eqLabelWithNumbers": true,
   "eqNumInitial": 1,
   "hotkeys": {
    "equation": "Ctrl-E",
    "itemize": "Ctrl-I"
   },
   "labels_anchors": false,
   "latex_user_defs": false,
   "report_style_numbering": false,
   "user_envs_cfg": false
  },
  "latex_metadata": {
   "affiliation": "Sandia National Laboratories",
   "author": "Bill Spotz",
   "title": "Summary Report for\\Multi-Physics Multi-Scale Computational Modeling, LLC"
  }
 },
 "nbformat": 4,
 "nbformat_minor": 2
}
