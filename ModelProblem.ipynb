{
 "cells": [
  {
   "cell_type": "markdown",
   "metadata": {},
   "source": [
    "# Model Problem Prototype"
   ]
  },
  {
   "cell_type": "markdown",
   "metadata": {},
   "source": [
    "The purpose of this notebook is to demonstrate the use of the `regen` module `weak_form` function.  The purpose of the `weak_form` function is to take a partial differential equation and return the same equation in weak form.  One of the reasons the weak form of a PDE is advantageous for a finite element formulation is that second derivatives can be reduced to first derivatives by employing integration by parts. This puts fewer restrictions on the smothness of the solution variable.  However, applying the integration-by-parts formula to a PDE in a symbolic manipulation package such as `sympy` is non-trivial."
   ]
  },
  {
   "cell_type": "markdown",
   "metadata": {},
   "source": [
    "We begin by importing functions and classes we will need from the Python module `sympy`.  Calling the `init_printing()` function will give us nicely formatted output mathematics within the notebook.  The `regen` module is the Python module being developed here, whose goal is to start with a practical expression of a PDE (in LaTeX, for example, or using `sympy` syntax, as we do here) and from that, generate a `ResidualEvaluator` class, suitable for use in Albany."
   ]
  },
  {
   "cell_type": "code",
   "execution_count": 1,
   "metadata": {},
   "outputs": [],
   "source": [
    "from sympy import init_printing, preorder_traversal, Symbol, Function, Eq, Derivative, Tuple\n",
    "import regen\n",
    "init_printing()"
   ]
  },
  {
   "cell_type": "markdown",
   "metadata": {},
   "source": [
    "The model problem we will be using for demonstration purposes comes from *Finite Elements: An Introduction, Volume I* by Eric B. Becker, Graham F. Carey, and J. Tinsley Oden.  In chapter 1 of that textbook, the authors develop a finite element method in the context of a model problem\n",
    "\n",
    "$$\n",
    "\\begin{array}{ccc}\n",
    "    -u'' + u = x, & 0 < x < 1 \\\\\n",
    "    u(0) = 0,     & u(1) = 0\n",
    "\\end{array}\n",
    "$$\n",
    "\n",
    "where $u$ is our solution variable and the prime symbol $'$ indicates differention with respect to $x$.\n",
    "\n",
    "To define our equation using `sympy`, we need to define `x` as a `Symbol` and `u` as a `Function` of `x`, then use the `Eq` and `Derivative` classes to define the equation:"
   ]
  },
  {
   "cell_type": "code",
   "execution_count": 5,
   "metadata": {},
   "outputs": [
    {
     "data": {
      "image/png": "[encoded data removed]",
      "text/latex": [
       "$$u{\\left (x \\right )} - \\frac{d^{2}}{d x^{2}} u{\\left (x \\right )} = x$$"
      ],
      "text/plain": [
       "         2          \n",
       "        d           \n",
       "u(x) - ───(u(x)) = x\n",
       "         2          \n",
       "       dx           "
      ]
     },
     "execution_count": 5,
     "metadata": {},
     "output_type": "execute_result"
    }
   ],
   "source": [
    "x = Symbol(\"x\")\n",
    "y = Symbol(\"y\")\n",
    "u = Function(\"u\")(x)\n",
    "model_prob = Eq(-Derivative(u,x,2) + u, x)\n",
    "model_prob"
   ]
  },
  {
   "cell_type": "markdown",
   "metadata": {},
   "source": [
    "Now the goal is to obtain the weak form of our model problem.  The `weak_form` function takes an `Eq` object as its first argument, the test function as its second argument, which we name `v`.  Note that through inspection, the `weak_form` function detects the solution variables, in this case `(u(x),)` and the domain variable `x`."
   ]
  },
  {
   "cell_type": "code",
   "execution_count": 6,
   "metadata": {
    "scrolled": true
   },
   "outputs": [
    {
     "data": {
      "image/png": "[encoded data removed]",
      "text/latex": [
       "$$- v{\\left (x \\right )} \\frac{d}{d x} u{\\left (x \\right )} - \\int x v{\\left (x \\right )}\\, dx + \\int u{\\left (x \\right )} v{\\left (x \\right )}\\, dx + \\int \\frac{d}{d x} u{\\left (x \\right )} \\frac{d}{d x} v{\\left (x \\right )}\\, dx$$"
      ],
      "text/plain": [
       "                                                 ⌠                     \n",
       "       d          ⌠             ⌠                ⎮ d        d          \n",
       "- v(x)⋅──(u(x)) - ⎮ x⋅v(x) dx + ⎮ u(x)⋅v(x) dx + ⎮ ──(u(x))⋅──(v(x)) dx\n",
       "       dx         ⌡             ⌡                ⎮ dx       dx         \n",
       "                                                 ⌡                     "
      ]
     },
     "execution_count": 6,
     "metadata": {},
     "output_type": "execute_result"
    }
   ],
   "source": [
    "v = Function(\"v\")(x)\n",
    "weak_form = regen.weak_form(model_prob, v)\n",
    "weak_form"
   ]
  },
  {
   "cell_type": "markdown",
   "metadata": {},
   "source": [
    "The weak form is returned in the form of a `sympy.Expr` rather than a `sympy.Eq`, with the implication that the expression sums to zero.  Notice that the term involving the second derivative of $u$ has been replaced by two terms that involve the first derivatives of $u$ and $v$.\n",
    "\n",
    "Open questions:\n",
    "1. How much work will be involved to upgrade the `regen.weak_form()` function to handle higher dimensions?  The `sympy` objects already handle multi-dimensional objects, but the integration, including integration by parts, will have to be upgraded to handle higher dimensions.\n",
    "1. The `regen.weak_form()` function can handle one or more equations, but has not yet been tested for multiple equations.\n",
    "1. The work here was done in terms of indefinite integrals, but in practice, we need to include the boundary conditions.  The model problem here has Dirichlet boundary conditions and should be easy to handle, but more complicated boundary conditions could add complexity."
   ]
  },
  {
   "cell_type": "code",
   "execution_count": null,
   "metadata": {},
   "outputs": [],
   "source": []
  }
 ],
 "metadata": {
  "kernelspec": {
   "display_name": "Python 3",
   "language": "python",
   "name": "python3"
  },
  "language_info": {
   "codemirror_mode": {
    "name": "ipython",
    "version": 3
   },
   "file_extension": ".py",
   "mimetype": "text/x-python",
   "name": "python",
   "nbconvert_exporter": "python",
   "pygments_lexer": "ipython3",
   "version": "3.7.0"
  }
 },
 "nbformat": 4,
 "nbformat_minor": 2
}
