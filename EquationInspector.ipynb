{
 "cells": [
  {
   "cell_type": "markdown",
   "metadata": {},
   "source": [
    "# Inspecting Equations"
   ]
  },
  {
   "cell_type": "markdown",
   "metadata": {},
   "source": [
    "For a user who has developed a partial differential equation using `sympy`, or a set of PDEs, it is often desireable to know certain information about those equations. What functions are differentiated?  What variables are derivatives taken with respect to?  Do functions or symbols appear that are not involved in differentiation?\n",
    "\n",
    "The `regen` module needs to know the answers to these questions, e.g. when performing an automated integration by parts, and so there are some functions within the module that perform these inspections:\n",
    "\n",
    "    inspect_eqn(eq)\n",
    "    inspect_eqns(eq1, eq2, ...)\n",
    "\n",
    "These functions return a dictionary with certain keys, such as `\"symbols\"`, `\"differentiated functions\"`, etc., and whose values are tuples of `sympy` objects.\n",
    "\n",
    "We will need some classes and functions from the `sympy` module, as well as the `regen` module:"
   ]
  },
  {
   "cell_type": "code",
   "execution_count": null,
   "metadata": {},
   "outputs": [],
   "source": [
    "from sympy import Symbol, Function, Derivative, Eq\n",
    "from sympy import init_printing\n",
    "init_printing()\n",
    "import regen"
   ]
  },
  {
   "cell_type": "markdown",
   "metadata": {},
   "source": [
    "Let's create a simple 2D PDE,"
   ]
  },
  {
   "cell_type": "code",
   "execution_count": null,
   "metadata": {},
   "outputs": [],
   "source": [
    "x = Symbol(\"x\")\n",
    "y = Symbol(\"y\")\n",
    "u = Function(\"u\")(x,y)\n",
    "pde = Eq(Derivative(u,x,2) + Derivative(u,y,2), 0)\n",
    "pde"
   ]
  },
  {
   "cell_type": "markdown",
   "metadata": {},
   "source": [
    "and inspect it:"
   ]
  },
  {
   "cell_type": "code",
   "execution_count": null,
   "metadata": {},
   "outputs": [],
   "source": [
    "regen.inspect_eqn(pde)"
   ]
  },
  {
   "cell_type": "markdown",
   "metadata": {},
   "source": [
    "The differentiated function is `u(x, y)` and the differentiating variables are `x` and `y`.  The domain variables are also `x` and `y`, but these data sets have different meanings.  The `\"differentiating variables\"` is the set of variables that derivatives are taken with respect to.  The `\"domain variables\"` is the set of variables that serve as arguments to functions.  Often, `differentiating variables` and `domain variables` should be the same, and checking that they are could be a sanity check.\n",
    "\n",
    "From the inspection, we see that there are no symbols or functions outside the ones involved in derivatives.\n",
    "\n",
    "Now let's look at a more complicated situation: a set of two 2D PDEs with symbols and functions that are not involved in the derivatives:"
   ]
  },
  {
   "cell_type": "code",
   "execution_count": null,
   "metadata": {},
   "outputs": [],
   "source": [
    "v    = Function(\"v\")(x,y)\n",
    "f    = Function(\"f\")(x,y)\n",
    "rho  = Symbol(\"ρ\")\n",
    "mu   = Symbol(\"μ\")\n",
    "ns_x = Eq(mu*(Derivative(u,x,2) + Derivative(u,y,2)) - rho*(u*Derivative(u,x) + v*Derivative(u,y)), f)\n",
    "ns_y = Eq(mu*(Derivative(v,x,2) + Derivative(v,y,2)) - rho*(u*Derivative(v,x) + v*Derivative(v,y)), f)\n",
    "\n",
    "ns_x"
   ]
  },
  {
   "cell_type": "code",
   "execution_count": null,
   "metadata": {},
   "outputs": [],
   "source": [
    "ns_y"
   ]
  },
  {
   "cell_type": "code",
   "execution_count": null,
   "metadata": {},
   "outputs": [],
   "source": [
    "regen.inspect_eqns(ns_x, ns_y)"
   ]
  },
  {
   "cell_type": "markdown",
   "metadata": {},
   "source": [
    "Note that if we were to inspect just one of the equations, say `ns_x`, the result would be"
   ]
  },
  {
   "cell_type": "code",
   "execution_count": null,
   "metadata": {},
   "outputs": [],
   "source": [
    "insp_x = regen.inspect_eqn(ns_x)\n",
    "insp_x"
   ]
  },
  {
   "cell_type": "markdown",
   "metadata": {},
   "source": [
    "and that `v(x, y)` would be interpreted as an undifferentiated function, which is not correct when interpreting the set as a whole. It is possible to inspect individual equations and combine them later:"
   ]
  },
  {
   "cell_type": "code",
   "execution_count": null,
   "metadata": {},
   "outputs": [],
   "source": [
    "insp_y = regen.inspect_eqn(ns_y)\n",
    "regen.combine_inspections(insp_x, insp_y)"
   ]
  },
  {
   "cell_type": "code",
   "execution_count": null,
   "metadata": {},
   "outputs": [],
   "source": []
  }
 ],
 "metadata": {
  "kernelspec": {
   "display_name": "Python 3",
   "language": "python",
   "name": "python3"
  },
  "language_info": {
   "codemirror_mode": {
    "name": "ipython",
    "version": 3
   },
   "file_extension": ".py",
   "mimetype": "text/x-python",
   "name": "python",
   "nbconvert_exporter": "python",
   "pygments_lexer": "ipython3",
   "version": "3.6.7"
  }
 },
 "nbformat": 4,
 "nbformat_minor": 2
}
