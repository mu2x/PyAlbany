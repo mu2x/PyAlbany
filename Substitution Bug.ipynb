{
 "cells": [
  {
   "cell_type": "markdown",
   "metadata": {},
   "source": [
    "# Substitution Bug"
   ]
  },
  {
   "cell_type": "markdown",
   "metadata": {},
   "source": [
    "I believe I have found a bug in `sympy` that affects our ability to implement full code generation for a finite element formulation.  The initial PDE and the weak form, obtained by performing integration by parts, require that we use the `Derivative` class for initial description and subsequent manipulation, but we have to substitute a new function for these derivative objects.  In the example that follows, I will try to make the following substitution:\n",
    "\n",
    "$$\n",
    "\\frac{d}{dx}\\phi_i(x) \\leftarrow \\phi_{i,x}(x),\n",
    "$$\n",
    "\n",
    "The reason to make this substitution is to help facilitate code generation, where we assume the derivatives of the basis functions are stored as arrays.\n",
    "\n",
    "We start with a simple expression involving a derivative:"
   ]
  },
  {
   "cell_type": "code",
   "execution_count": 1,
   "metadata": {},
   "outputs": [
    {
     "data": {
      "image/png": "[encoded data removed]",
      "text/latex": [
       "$$\\phi{\\left (i,x \\right )} + \\frac{d}{d x} \\phi{\\left (i,x \\right )}$$"
      ],
      "text/plain": [
       "          d          \n",
       "φ(i, x) + ──(φ(i, x))\n",
       "          dx         "
      ]
     },
     "execution_count": 1,
     "metadata": {},
     "output_type": "execute_result"
    }
   ],
   "source": [
    "from sympy import *\n",
    "init_printing()\n",
    "i = Idx('i')\n",
    "x = Symbol('x')\n",
    "phi = Function('phi')(i,x)\n",
    "expr = Derivative(phi,x) + phi\n",
    "expr"
   ]
  },
  {
   "cell_type": "markdown",
   "metadata": {},
   "source": [
    "We now perform a substitution to replace the derivative with a function:"
   ]
  },
  {
   "cell_type": "code",
   "execution_count": 2,
   "metadata": {},
   "outputs": [
    {
     "data": {
      "image/png": "[encoded data removed]",
      "text/latex": [
       "$$\\phi{\\left (i,x \\right )} + \\phi_{x}{\\left (i,x \\right )}$$"
      ],
      "text/plain": [
       "φ(i, x) + φₓ(i, x)"
      ]
     },
     "execution_count": 2,
     "metadata": {},
     "output_type": "execute_result"
    }
   ],
   "source": [
    "phi_x = Function('phi_x')(i,x)\n",
    "expr.subs(Derivative(phi,x), phi_x)"
   ]
  },
  {
   "cell_type": "markdown",
   "metadata": {},
   "source": [
    "This substitution worked as expected.  Now we put this simple expression inside a summation, and try to apply the substitution again:"
   ]
  },
  {
   "cell_type": "code",
   "execution_count": 3,
   "metadata": {},
   "outputs": [
    {
     "data": {
      "image/png": "[encoded data removed]",
      "text/latex": [
       "$$\\sum_{i=0}^{N - 1} \\left(\\phi{\\left (i,x \\right )} + \\frac{d}{d x} \\phi{\\left (i,x \\right )}\\right)$$"
      ],
      "text/plain": [
       "N - 1                        \n",
       " ____                        \n",
       " ╲                           \n",
       "  ╲   ⎛          d          ⎞\n",
       "   ╲  ⎜φ(i, x) + ──(φ(i, x))⎟\n",
       "   ╱  ⎝          dx         ⎠\n",
       "  ╱                          \n",
       " ╱                           \n",
       " ‾‾‾‾                        \n",
       "i = 0                        "
      ]
     },
     "execution_count": 3,
     "metadata": {},
     "output_type": "execute_result"
    }
   ],
   "source": [
    "N = Symbol('N', integer=True)\n",
    "expr = summation(Derivative(phi,x) + phi, (i,0,N-1))\n",
    "expr"
   ]
  },
  {
   "cell_type": "code",
   "execution_count": 4,
   "metadata": {},
   "outputs": [
    {
     "data": {
      "image/png": "[encoded data removed]",
      "text/latex": [
       "$$\\sum_{i=0}^{N - 1} \\left(\\phi{\\left (i,x \\right )} + \\frac{d}{d x} \\phi{\\left (i,x \\right )}\\right)$$"
      ],
      "text/plain": [
       "N - 1                        \n",
       " ____                        \n",
       " ╲                           \n",
       "  ╲   ⎛          d          ⎞\n",
       "   ╲  ⎜φ(i, x) + ──(φ(i, x))⎟\n",
       "   ╱  ⎝          dx         ⎠\n",
       "  ╱                          \n",
       " ╱                           \n",
       " ‾‾‾‾                        \n",
       "i = 0                        "
      ]
     },
     "execution_count": 4,
     "metadata": {},
     "output_type": "execute_result"
    }
   ],
   "source": [
    "expr.subs(Derivative(phi,x), phi_x)"
   ]
  },
  {
   "cell_type": "markdown",
   "metadata": {},
   "source": [
    "Clearly, in this case, the second substitution has no effect.  I thought it might have something to do with $\\phi(i,x)$, which might need to be a `IndexedBase` object to \"work\" properly within a summation (rather than a `Function` object).  But I see the same behavior with integrals as summations, and integrals do not depend on indexes.\n",
    "\n",
    "I have posted a question about this, using the above example, on __[Stack Overflow](https://stackoverflow.com/questions/53751640/sympy-expr-subs-method-does-not-work-within-a-sum)__.  If I don't get a response with a viable workaround, I will post a bug to the SymPy project."
   ]
  }
 ],
 "metadata": {
  "kernelspec": {
   "display_name": "Python 3",
   "language": "python",
   "name": "python3"
  },
  "language_info": {
   "codemirror_mode": {
    "name": "ipython",
    "version": 3
   },
   "file_extension": ".py",
   "mimetype": "text/x-python",
   "name": "python",
   "nbconvert_exporter": "python",
   "pygments_lexer": "ipython3",
   "version": "3.6.7"
  }
 },
 "nbformat": 4,
 "nbformat_minor": 2
}
